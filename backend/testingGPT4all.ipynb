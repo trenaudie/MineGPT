{
 "cells": [
  {
   "cell_type": "code",
   "execution_count": 1,
   "metadata": {},
   "outputs": [],
   "source": [
    "from pyllamacpp.model import Model"
   ]
  },
  {
   "cell_type": "code",
   "execution_count": 2,
   "metadata": {},
   "outputs": [
    {
     "name": "stderr",
     "output_type": "stream",
     "text": [
      "llama_model_load: loading model from '/Users/tanguyrenaudie/Documents/TanguyML/gpt4all_model/gpt4all-converted.bin' - please wait ...\n",
      "llama_model_load: n_vocab = 32001\n",
      "llama_model_load: n_ctx   = 512\n",
      "llama_model_load: n_embd  = 4096\n",
      "llama_model_load: n_mult  = 256\n",
      "llama_model_load: n_head  = 32\n",
      "llama_model_load: n_layer = 32\n",
      "llama_model_load: n_rot   = 128\n",
      "llama_model_load: f16     = 2\n",
      "llama_model_load: n_ff    = 11008\n",
      "llama_model_load: n_parts = 1\n",
      "llama_model_load: type    = 1\n",
      "llama_model_load: ggml map size = 4017.70 MB\n",
      "llama_model_load: ggml ctx size =  81.25 KB\n",
      "llama_model_load: mem required  = 5809.78 MB (+ 2052.00 MB per state)\n",
      "llama_model_load: loading tensors from '/Users/tanguyrenaudie/Documents/TanguyML/gpt4all_model/gpt4all-converted.bin'\n",
      "llama_model_load: model size =  4017.27 MB / num tensors = 291\n",
      "llama_init_from_file: kv self size  =  512.00 MB\n",
      "llama_generate: seed = 1680864080\n",
      "\n",
      "system_info: n_threads = 8 / 8 | AVX = 0 | AVX2 = 0 | AVX512 = 0 | FMA = 0 | NEON = 1 | ARM_FMA = 1 | F16C = 0 | FP16_VA = 1 | WASM_SIMD = 0 | BLAS = 1 | SSE3 = 0 | VSX = 0 | \n",
      "sampling: temp = 0.800000, top_k = 40, top_p = 0.950000, repeat_last_n = 64, repeat_penalty = 1.100000\n",
      "generate: n_ctx = 512, n_batch = 8, n_predict = 55, n_keep = 0\n",
      "\n",
      "\n"
     ]
    },
    {
     "name": "stdout",
     "output_type": "stream",
     "text": [
      " Once upon a time, 1557 CE was the year when a Scottish monk named John Knox came to England. He was originally from Scotland and had come to London to meet King Edward VI.\n",
      "Knox was in London to plead for the Protestant cause. At that"
     ]
    },
    {
     "name": "stderr",
     "output_type": "stream",
     "text": [
      "\n",
      "llama_print_timings:        load time =  6295.82 ms\n",
      "llama_print_timings:      sample time =    75.15 ms /    55 runs   (    1.37 ms per run)\n",
      "llama_print_timings: prompt eval time =  5601.97 ms /     7 tokens (  800.28 ms per token)\n",
      "llama_print_timings:        eval time = 324345.70 ms /    54 runs   ( 6006.40 ms per run)\n",
      "llama_print_timings:       total time = 330802.27 ms\n"
     ]
    },
    {
     "data": {
      "text/plain": [
       "' Once upon a time, 1557 CE was the year when a Scottish monk named John Knox came to England. He was originally from Scotland and had come to London to meet King Edward VI.\\nKnox was in London to plead for the Protestant cause. At that'"
      ]
     },
     "execution_count": 2,
     "metadata": {},
     "output_type": "execute_result"
    }
   ],
   "source": [
    "def new_text_callback(text: str):\n",
    "    print(text, end=\"\")\n",
    "\n",
    "path_to_ggml = \"/Users/tanguyrenaudie/Documents/TanguyML/gpt4all_model/gpt4all-converted.bin\"\n",
    "model = Model(ggml_model=path_to_ggml, n_ctx=512)\n",
    "model.generate(\"Once upon a time, \", n_predict=55, new_text_callback=new_text_callback, n_threads=8)\n"
   ]
  },
  {
   "cell_type": "code",
   "execution_count": null,
   "metadata": {},
   "outputs": [],
   "source": []
  }
 ],
 "metadata": {
  "kernelspec": {
   "display_name": "language",
   "language": "python",
   "name": "python3"
  },
  "language_info": {
   "codemirror_mode": {
    "name": "ipython",
    "version": 3
   },
   "file_extension": ".py",
   "mimetype": "text/x-python",
   "name": "python",
   "nbconvert_exporter": "python",
   "pygments_lexer": "ipython3",
   "version": "3.10.10"
  },
  "orig_nbformat": 4
 },
 "nbformat": 4,
 "nbformat_minor": 2
}
